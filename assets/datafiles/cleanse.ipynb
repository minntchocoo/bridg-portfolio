{
 "cells": [
  {
   "cell_type": "code",
   "execution_count": 4,
   "metadata": {},
   "outputs": [],
   "source": [
    "import csv\n",
    "from faker import Faker\n",
    "import random\n",
    "\n",
    "fake = Faker()\n",
    "\n",
    "# List of departments\n",
    "departments = [\n",
    "    'Human Resources', 'Marketing', 'Sales', 'Engineering', 'Finance',\n",
    "    'Customer Support', 'IT', 'Legal', 'Product Management', 'Operations'\n",
    "]\n",
    "\n",
    "# Function to generate a random date in YYYY-MM-DD format\n",
    "def random_date():\n",
    "    return fake.date_of_birth(minimum_age=20, maximum_age=60).strftime('%Y-%m-%d')\n",
    "\n",
    "# Generate additional rows of data\n",
    "def generate_data(num_rows):\n",
    "    data = []\n",
    "    for _ in range(num_rows):\n",
    "        job_title = fake.job().replace(',', '')  # Remove commas from job titles\n",
    "        row = {\n",
    "            'Name': fake.name(),\n",
    "            'Position': job_title,\n",
    "            'Office': fake.city(),\n",
    "            'Extn.': str(random.randint(1000, 9999)),\n",
    "            'Start date': random_date(),\n",
    "            'Salary': f\"${random.randint(50000, 150000)}\",  # No comma in salary\n",
    "            'Department': random.choice(departments)  # Select department from the list\n",
    "        }\n",
    "        data.append(row)\n",
    "    return data\n",
    "\n",
    "# Write the data to a CSV file\n",
    "with open('data.csv', mode='a', newline='') as file:\n",
    "    writer = csv.DictWriter(file, fieldnames=['Name', 'Position', 'Office', 'Extn.', 'Start date', 'Salary', 'Department'])\n",
    "    # If the file is empty, write the header\n",
    "    if file.tell() == 0:\n",
    "        writer.writeheader()\n",
    "    # Generate and write the new rows\n",
    "    new_data = generate_data(200)  # Generate 200 new rows of data\n",
    "    writer.writerows(new_data)\n"
   ]
  }
 ],
 "metadata": {
  "kernelspec": {
   "display_name": "Python 3",
   "language": "python",
   "name": "python3"
  },
  "language_info": {
   "codemirror_mode": {
    "name": "ipython",
    "version": 3
   },
   "file_extension": ".py",
   "mimetype": "text/x-python",
   "name": "python",
   "nbconvert_exporter": "python",
   "pygments_lexer": "ipython3",
   "version": "3.11.5"
  }
 },
 "nbformat": 4,
 "nbformat_minor": 2
}
